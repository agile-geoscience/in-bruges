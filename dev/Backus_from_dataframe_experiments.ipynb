{
 "cells": [
  {
   "cell_type": "markdown",
   "metadata": {},
   "source": [
    "#### Import libraries"
   ]
  },
  {
   "cell_type": "code",
   "execution_count": 1,
   "metadata": {},
   "outputs": [],
   "source": [
    "import bruges as br\n",
    "import numpy as np\n",
    "import pandas as pd\n",
    "from welly import Well\n",
    "import matplotlib.pyplot as plt"
   ]
  },
  {
   "cell_type": "markdown",
   "metadata": {},
   "source": [
    "#### Import wells"
   ]
  },
  {
   "cell_type": "code",
   "execution_count": 2,
   "metadata": {},
   "outputs": [],
   "source": [
    "R39 = Well.from_las('../data/R-39.las')"
   ]
  },
  {
   "cell_type": "code",
   "execution_count": 3,
   "metadata": {},
   "outputs": [],
   "source": [
    "w129 = Well.from_las('../data/P-129_out.las')"
   ]
  },
  {
   "cell_type": "markdown",
   "metadata": {},
   "source": [
    "#### Make dataframes"
   ]
  },
  {
   "cell_type": "markdown",
   "metadata": {},
   "source": [
    "- Make dataframe\n",
    "- Select columns\n",
    "- Add well name column\n",
    "- Concatenate datafrmes"
   ]
  },
  {
   "cell_type": "code",
   "execution_count": 4,
   "metadata": {},
   "outputs": [
    {
     "data": {
      "text/html": [
       "<div>\n",
       "<style scoped>\n",
       "    .dataframe tbody tr th:only-of-type {\n",
       "        vertical-align: middle;\n",
       "    }\n",
       "\n",
       "    .dataframe tbody tr th {\n",
       "        vertical-align: top;\n",
       "    }\n",
       "\n",
       "    .dataframe thead th {\n",
       "        text-align: right;\n",
       "    }\n",
       "</style>\n",
       "<table border=\"1\" class=\"dataframe\">\n",
       "  <thead>\n",
       "    <tr style=\"text-align: right;\">\n",
       "      <th></th>\n",
       "      <th>DEPTH</th>\n",
       "      <th>DT</th>\n",
       "      <th>DTS</th>\n",
       "      <th>RHOB</th>\n",
       "      <th>well</th>\n",
       "    </tr>\n",
       "  </thead>\n",
       "  <tbody>\n",
       "    <tr>\n",
       "      <th>count</th>\n",
       "      <td>7843.000000</td>\n",
       "      <td>7843.000000</td>\n",
       "      <td>7843.000000</td>\n",
       "      <td>7843.000000</td>\n",
       "      <td>7843</td>\n",
       "    </tr>\n",
       "    <tr>\n",
       "      <th>unique</th>\n",
       "      <td>NaN</td>\n",
       "      <td>NaN</td>\n",
       "      <td>NaN</td>\n",
       "      <td>NaN</td>\n",
       "      <td>1</td>\n",
       "    </tr>\n",
       "    <tr>\n",
       "      <th>top</th>\n",
       "      <td>NaN</td>\n",
       "      <td>NaN</td>\n",
       "      <td>NaN</td>\n",
       "      <td>NaN</td>\n",
       "      <td>R-39</td>\n",
       "    </tr>\n",
       "    <tr>\n",
       "      <th>freq</th>\n",
       "      <td>NaN</td>\n",
       "      <td>NaN</td>\n",
       "      <td>NaN</td>\n",
       "      <td>NaN</td>\n",
       "      <td>7843</td>\n",
       "    </tr>\n",
       "    <tr>\n",
       "      <th>mean</th>\n",
       "      <td>2790.596400</td>\n",
       "      <td>279.843323</td>\n",
       "      <td>455.340913</td>\n",
       "      <td>2493.556531</td>\n",
       "      <td>NaN</td>\n",
       "    </tr>\n",
       "    <tr>\n",
       "      <th>std</th>\n",
       "      <td>345.067648</td>\n",
       "      <td>25.963527</td>\n",
       "      <td>439.113290</td>\n",
       "      <td>114.662210</td>\n",
       "      <td>NaN</td>\n",
       "    </tr>\n",
       "    <tr>\n",
       "      <th>min</th>\n",
       "      <td>2193.036000</td>\n",
       "      <td>166.347500</td>\n",
       "      <td>-3278.379200</td>\n",
       "      <td>2050.229000</td>\n",
       "      <td>NaN</td>\n",
       "    </tr>\n",
       "    <tr>\n",
       "      <th>25%</th>\n",
       "      <td>2491.816200</td>\n",
       "      <td>262.778350</td>\n",
       "      <td>461.351100</td>\n",
       "      <td>2450.387250</td>\n",
       "      <td>NaN</td>\n",
       "    </tr>\n",
       "    <tr>\n",
       "      <th>50%</th>\n",
       "      <td>2790.596400</td>\n",
       "      <td>284.251700</td>\n",
       "      <td>515.766000</td>\n",
       "      <td>2505.075000</td>\n",
       "      <td>NaN</td>\n",
       "    </tr>\n",
       "    <tr>\n",
       "      <th>75%</th>\n",
       "      <td>3089.376600</td>\n",
       "      <td>299.587350</td>\n",
       "      <td>555.725100</td>\n",
       "      <td>2569.123050</td>\n",
       "      <td>NaN</td>\n",
       "    </tr>\n",
       "    <tr>\n",
       "      <th>max</th>\n",
       "      <td>3388.156800</td>\n",
       "      <td>348.946300</td>\n",
       "      <td>590.522000</td>\n",
       "      <td>3144.669700</td>\n",
       "      <td>NaN</td>\n",
       "    </tr>\n",
       "  </tbody>\n",
       "</table>\n",
       "</div>"
      ],
      "text/plain": [
       "              DEPTH           DT          DTS         RHOB  well\n",
       "count   7843.000000  7843.000000  7843.000000  7843.000000  7843\n",
       "unique          NaN          NaN          NaN          NaN     1\n",
       "top             NaN          NaN          NaN          NaN  R-39\n",
       "freq            NaN          NaN          NaN          NaN  7843\n",
       "mean    2790.596400   279.843323   455.340913  2493.556531   NaN\n",
       "std      345.067648    25.963527   439.113290   114.662210   NaN\n",
       "min     2193.036000   166.347500 -3278.379200  2050.229000   NaN\n",
       "25%     2491.816200   262.778350   461.351100  2450.387250   NaN\n",
       "50%     2790.596400   284.251700   515.766000  2505.075000   NaN\n",
       "75%     3089.376600   299.587350   555.725100  2569.123050   NaN\n",
       "max     3388.156800   348.946300   590.522000  3144.669700   NaN"
      ]
     },
     "execution_count": 4,
     "metadata": {},
     "output_type": "execute_result"
    }
   ],
   "source": [
    "w39_df = R39.df()\n",
    "w39_df['DEPTH'] = w39_df.index\n",
    "w39_df = w39_df[['DEPTH', 'DT4P', 'DT4S', 'RHOB']]\n",
    "w39_df.columns = ['DEPTH','DT', 'DTS', 'RHOB']\n",
    "name = (['R-39']*len(w39_df))\n",
    "w39_df['well'] = name\n",
    "w39_df = w39_df.reset_index(drop=True)\n",
    "w39_df.describe(include = 'all')"
   ]
  },
  {
   "cell_type": "code",
   "execution_count": 5,
   "metadata": {},
   "outputs": [
    {
     "data": {
      "text/html": [
       "<div>\n",
       "<style scoped>\n",
       "    .dataframe tbody tr th:only-of-type {\n",
       "        vertical-align: middle;\n",
       "    }\n",
       "\n",
       "    .dataframe tbody tr th {\n",
       "        vertical-align: top;\n",
       "    }\n",
       "\n",
       "    .dataframe thead th {\n",
       "        text-align: right;\n",
       "    }\n",
       "</style>\n",
       "<table border=\"1\" class=\"dataframe\">\n",
       "  <thead>\n",
       "    <tr style=\"text-align: right;\">\n",
       "      <th></th>\n",
       "      <th>DEPTH</th>\n",
       "      <th>DT</th>\n",
       "      <th>DTS</th>\n",
       "      <th>RHOB</th>\n",
       "      <th>well</th>\n",
       "    </tr>\n",
       "  </thead>\n",
       "  <tbody>\n",
       "    <tr>\n",
       "      <th>count</th>\n",
       "      <td>12718.00000</td>\n",
       "      <td>10850.000000</td>\n",
       "      <td>10850.000000</td>\n",
       "      <td>12707.000000</td>\n",
       "      <td>12718</td>\n",
       "    </tr>\n",
       "    <tr>\n",
       "      <th>unique</th>\n",
       "      <td>NaN</td>\n",
       "      <td>NaN</td>\n",
       "      <td>NaN</td>\n",
       "      <td>NaN</td>\n",
       "      <td>1</td>\n",
       "    </tr>\n",
       "    <tr>\n",
       "      <th>top</th>\n",
       "      <td>NaN</td>\n",
       "      <td>NaN</td>\n",
       "      <td>NaN</td>\n",
       "      <td>NaN</td>\n",
       "      <td>P-129</td>\n",
       "    </tr>\n",
       "    <tr>\n",
       "      <th>freq</th>\n",
       "      <td>NaN</td>\n",
       "      <td>NaN</td>\n",
       "      <td>NaN</td>\n",
       "      <td>NaN</td>\n",
       "      <td>12718</td>\n",
       "    </tr>\n",
       "    <tr>\n",
       "      <th>mean</th>\n",
       "      <td>970.10220</td>\n",
       "      <td>63.078827</td>\n",
       "      <td>107.128658</td>\n",
       "      <td>2.613912</td>\n",
       "      <td>NaN</td>\n",
       "    </tr>\n",
       "    <tr>\n",
       "      <th>std</th>\n",
       "      <td>559.53884</td>\n",
       "      <td>6.529424</td>\n",
       "      <td>12.769174</td>\n",
       "      <td>0.254185</td>\n",
       "      <td>NaN</td>\n",
       "    </tr>\n",
       "    <tr>\n",
       "      <th>min</th>\n",
       "      <td>1.06680</td>\n",
       "      <td>40.583134</td>\n",
       "      <td>78.108894</td>\n",
       "      <td>1.173953</td>\n",
       "      <td>NaN</td>\n",
       "    </tr>\n",
       "    <tr>\n",
       "      <th>25%</th>\n",
       "      <td>485.58450</td>\n",
       "      <td>59.051755</td>\n",
       "      <td>95.865942</td>\n",
       "      <td>2.526586</td>\n",
       "      <td>NaN</td>\n",
       "    </tr>\n",
       "    <tr>\n",
       "      <th>50%</th>\n",
       "      <td>970.10220</td>\n",
       "      <td>62.426868</td>\n",
       "      <td>104.755680</td>\n",
       "      <td>2.660130</td>\n",
       "      <td>NaN</td>\n",
       "    </tr>\n",
       "    <tr>\n",
       "      <th>75%</th>\n",
       "      <td>1454.61990</td>\n",
       "      <td>67.749138</td>\n",
       "      <td>117.113300</td>\n",
       "      <td>2.716321</td>\n",
       "      <td>NaN</td>\n",
       "    </tr>\n",
       "    <tr>\n",
       "      <th>max</th>\n",
       "      <td>1939.13760</td>\n",
       "      <td>112.469643</td>\n",
       "      <td>174.300812</td>\n",
       "      <td>4.628800</td>\n",
       "      <td>NaN</td>\n",
       "    </tr>\n",
       "  </tbody>\n",
       "</table>\n",
       "</div>"
      ],
      "text/plain": [
       "              DEPTH            DT           DTS          RHOB   well\n",
       "count   12718.00000  10850.000000  10850.000000  12707.000000  12718\n",
       "unique          NaN           NaN           NaN           NaN      1\n",
       "top             NaN           NaN           NaN           NaN  P-129\n",
       "freq            NaN           NaN           NaN           NaN  12718\n",
       "mean      970.10220     63.078827    107.128658      2.613912    NaN\n",
       "std       559.53884      6.529424     12.769174      0.254185    NaN\n",
       "min         1.06680     40.583134     78.108894      1.173953    NaN\n",
       "25%       485.58450     59.051755     95.865942      2.526586    NaN\n",
       "50%       970.10220     62.426868    104.755680      2.660130    NaN\n",
       "75%      1454.61990     67.749138    117.113300      2.716321    NaN\n",
       "max      1939.13760    112.469643    174.300812      4.628800    NaN"
      ]
     },
     "execution_count": 5,
     "metadata": {},
     "output_type": "execute_result"
    }
   ],
   "source": [
    "w129_df = w129.df()\n",
    "w129_df['DEPTH'] = w129_df.index\n",
    "w129_df = w129_df[['DEPTH','DT', 'DTS', 'RHOB']]\n",
    "name = (['P-129']*len(w129_df))\n",
    "w129_df['well'] = name\n",
    "w129_df = w129_df.reset_index(drop=True)\n",
    "w129_df.describe(include = 'all')"
   ]
  },
  {
   "cell_type": "code",
   "execution_count": 6,
   "metadata": {},
   "outputs": [
    {
     "data": {
      "text/html": [
       "<div>\n",
       "<style scoped>\n",
       "    .dataframe tbody tr th:only-of-type {\n",
       "        vertical-align: middle;\n",
       "    }\n",
       "\n",
       "    .dataframe tbody tr th {\n",
       "        vertical-align: top;\n",
       "    }\n",
       "\n",
       "    .dataframe thead th {\n",
       "        text-align: right;\n",
       "    }\n",
       "</style>\n",
       "<table border=\"1\" class=\"dataframe\">\n",
       "  <thead>\n",
       "    <tr style=\"text-align: right;\">\n",
       "      <th></th>\n",
       "      <th>DEPTH</th>\n",
       "      <th>DT</th>\n",
       "      <th>DTS</th>\n",
       "      <th>RHOB</th>\n",
       "    </tr>\n",
       "  </thead>\n",
       "  <tbody>\n",
       "    <tr>\n",
       "      <th>count</th>\n",
       "      <td>20561.000000</td>\n",
       "      <td>18693.000000</td>\n",
       "      <td>18693.000000</td>\n",
       "      <td>20550.000000</td>\n",
       "    </tr>\n",
       "    <tr>\n",
       "      <th>mean</th>\n",
       "      <td>1664.530293</td>\n",
       "      <td>154.026451</td>\n",
       "      <td>253.227663</td>\n",
       "      <td>953.293375</td>\n",
       "    </tr>\n",
       "    <tr>\n",
       "      <th>std</th>\n",
       "      <td>1010.484213</td>\n",
       "      <td>108.401637</td>\n",
       "      <td>332.445839</td>\n",
       "      <td>1212.182010</td>\n",
       "    </tr>\n",
       "    <tr>\n",
       "      <th>min</th>\n",
       "      <td>1.066800</td>\n",
       "      <td>40.583134</td>\n",
       "      <td>-3278.379200</td>\n",
       "      <td>1.173953</td>\n",
       "    </tr>\n",
       "    <tr>\n",
       "      <th>25%</th>\n",
       "      <td>784.402800</td>\n",
       "      <td>61.308117</td>\n",
       "      <td>100.933975</td>\n",
       "      <td>2.629481</td>\n",
       "    </tr>\n",
       "    <tr>\n",
       "      <th>50%</th>\n",
       "      <td>1567.738800</td>\n",
       "      <td>70.229836</td>\n",
       "      <td>121.275101</td>\n",
       "      <td>2.732116</td>\n",
       "    </tr>\n",
       "    <tr>\n",
       "      <th>75%</th>\n",
       "      <td>2604.820800</td>\n",
       "      <td>277.813800</td>\n",
       "      <td>500.887200</td>\n",
       "      <td>2476.911700</td>\n",
       "    </tr>\n",
       "    <tr>\n",
       "      <th>max</th>\n",
       "      <td>3388.156800</td>\n",
       "      <td>348.946300</td>\n",
       "      <td>590.522000</td>\n",
       "      <td>3144.669700</td>\n",
       "    </tr>\n",
       "  </tbody>\n",
       "</table>\n",
       "</div>"
      ],
      "text/plain": [
       "              DEPTH            DT           DTS          RHOB\n",
       "count  20561.000000  18693.000000  18693.000000  20550.000000\n",
       "mean    1664.530293    154.026451    253.227663    953.293375\n",
       "std     1010.484213    108.401637    332.445839   1212.182010\n",
       "min        1.066800     40.583134  -3278.379200      1.173953\n",
       "25%      784.402800     61.308117    100.933975      2.629481\n",
       "50%     1567.738800     70.229836    121.275101      2.732116\n",
       "75%     2604.820800    277.813800    500.887200   2476.911700\n",
       "max     3388.156800    348.946300    590.522000   3144.669700"
      ]
     },
     "execution_count": 6,
     "metadata": {},
     "output_type": "execute_result"
    }
   ],
   "source": [
    "wells = pd.DataFrame()\n",
    "\n",
    "for i,df in enumerate([w129_df, w39_df]):\n",
    "    wells=wells.append(df, ignore_index=True)\n",
    "wells.describe()    "
   ]
  },
  {
   "cell_type": "markdown",
   "metadata": {},
   "source": [
    "#### Convert to velocity"
   ]
  },
  {
   "cell_type": "code",
   "execution_count": null,
   "metadata": {},
   "outputs": [],
   "source": []
  },
  {
   "cell_type": "markdown",
   "metadata": {},
   "source": [
    "### Import libraries"
   ]
  },
  {
   "cell_type": "raw",
   "metadata": {},
   "source": [
    "MEGA_D1 = pd.DataFrame()\n",
    "\n",
    "for i,df in enumerate([df0618, df1312, df01531, df0822, df0527, df0614, df1436, df021433, df0828]):\n",
    "    MEGA_D1=MEGA_D1.append(df)"
   ]
  },
  {
   "cell_type": "markdown",
   "metadata": {},
   "source": [
    "### Import libraries"
   ]
  },
  {
   "cell_type": "markdown",
   "metadata": {},
   "source": [
    "### Import libraries"
   ]
  },
  {
   "cell_type": "markdown",
   "metadata": {},
   "source": [
    "### Import libraries"
   ]
  },
  {
   "cell_type": "markdown",
   "metadata": {},
   "source": [
    "### Import libraries"
   ]
  },
  {
   "cell_type": "markdown",
   "metadata": {},
   "source": [
    "### Import libraries"
   ]
  }
 ],
 "metadata": {
  "kernelspec": {
   "display_name": "Python [conda env:bruges]",
   "language": "python",
   "name": "conda-env-bruges-py"
  },
  "language_info": {
   "codemirror_mode": {
    "name": "ipython",
    "version": 3
   },
   "file_extension": ".py",
   "mimetype": "text/x-python",
   "name": "python",
   "nbconvert_exporter": "python",
   "pygments_lexer": "ipython3",
   "version": "3.6.6"
  }
 },
 "nbformat": 4,
 "nbformat_minor": 2
}
