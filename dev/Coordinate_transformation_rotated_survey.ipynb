{
 "cells": [
  {
   "cell_type": "code",
   "execution_count": 1,
   "metadata": {},
   "outputs": [],
   "source": [
    "import numpy as np\n",
    "\n",
    "%matplotlib inline"
   ]
  },
  {
   "cell_type": "markdown",
   "metadata": {},
   "source": [
    "## Required\n",
    "\n",
    "- `bruges`\n",
    "- `welly`"
   ]
  },
  {
   "cell_type": "markdown",
   "metadata": {},
   "source": [
    "## Coordinate transformation in `bruges`\n",
    "\n",
    "The idea is that you have UTM coordinates of three unique inline, crossline locations in a seismic survey (e.g. three cornerpoints). Once you have provided these, you can look up the (x,y) location of any (inline, xline) location, or vice versa."
   ]
  },
  {
   "cell_type": "code",
   "execution_count": 2,
   "metadata": {},
   "outputs": [],
   "source": [
    "import bruges"
   ]
  },
  {
   "cell_type": "markdown",
   "metadata": {},
   "source": [
    "Define the cornerpoints:"
   ]
  },
  {
   "cell_type": "code",
   "execution_count": 3,
   "metadata": {},
   "outputs": [],
   "source": [
    "# UTM coords of 3 unique inline, crossline locations.\n",
    "corners_xy = np.array([[600938.125, 6073394.5],\n",
    "                       [631226.3125, 6074241.0],\n",
    "                       [630720.25, 6092358.5]])\n",
    "\n",
    "# The inline, crossline locations you just provided.\n",
    "corners_ix = np.array([[99,  104],\n",
    "                       [99, 1316],\n",
    "                       [824,1316]])"
   ]
  },
  {
   "cell_type": "markdown",
   "metadata": {},
   "source": [
    "The `CoordTransform` class provides a function, which we'll call `transform`."
   ]
  },
  {
   "cell_type": "code",
   "execution_count": 4,
   "metadata": {},
   "outputs": [],
   "source": [
    "transform = bruges.transform.CoordTransform(corners_ix, corners_xy)"
   ]
  },
  {
   "cell_type": "code",
   "execution_count": 5,
   "metadata": {},
   "outputs": [
    {
     "data": {
      "text/plain": [
       "array([ 617168.67831747, 6082376.23932798])"
      ]
     },
     "execution_count": 5,
     "metadata": {},
     "output_type": "execute_result"
    }
   ],
   "source": [
    "transform([440, 763])   # Or, equivalently, transform.forward([440, 763])\n",
    "\n",
    "# Should be [617167, 6082379]"
   ]
  },
  {
   "cell_type": "markdown",
   "metadata": {},
   "source": [
    "We can also go back, from (x, y) to (inline, crossline). "
   ]
  },
  {
   "cell_type": "code",
   "execution_count": 6,
   "metadata": {},
   "outputs": [
    {
     "data": {
      "text/plain": [
       "array([440, 763])"
      ]
     },
     "execution_count": 6,
     "metadata": {},
     "output_type": "execute_result"
    }
   ],
   "source": [
    "transform.reverse([617167, 6082379])"
   ]
  },
  {
   "cell_type": "markdown",
   "metadata": {},
   "source": [
    "(If you *only* wanted the reverse function, you could also just have passed the coordinate arrays in to the instantiation in reverse order.)"
   ]
  },
  {
   "cell_type": "markdown",
   "metadata": {},
   "source": [
    "## Dealing with the vertical axis: no velocity model\n",
    "\n",
    "To get the seismic sample belonging to a particular depth, we need a velocity model.\n",
    "\n",
    "If you already have an average velocity model in depth, then you can just look up the velocity and convert it directly.\n",
    "\n",
    "But let's assume you only have a sonic well log for velocity information..."
   ]
  },
  {
   "cell_type": "code",
   "execution_count": 7,
   "metadata": {},
   "outputs": [],
   "source": [
    "from welly import Well\n",
    "\n",
    "w = Well.from_las(\"data/F03-04.las\")"
   ]
  },
  {
   "cell_type": "code",
   "execution_count": 8,
   "metadata": {},
   "outputs": [
    {
     "data": {
      "text/plain": [
       "{'CALI': Curve([ nan,  nan,  nan, ...,  nan,  nan,  nan]),\n",
       " 'DRHO': Curve([ nan,  nan,  nan, ...,  nan,  nan,  nan]),\n",
       " 'DT': Curve([ nan,  nan,  nan, ...,  nan,  nan,  nan]),\n",
       " 'GR': Curve([ nan,  nan,  nan, ...,  nan,  nan,  nan]),\n",
       " 'ILD': Curve([ nan,  nan,  nan, ...,  nan,  nan,  nan]),\n",
       " 'LLD': Curve([ nan,  nan,  nan, ...,  nan,  nan,  nan]),\n",
       " 'LLS': Curve([ nan,  nan,  nan, ...,  nan,  nan,  nan]),\n",
       " 'MSFL': Curve([ nan,  nan,  nan, ...,  nan,  nan,  nan]),\n",
       " 'NPHI': Curve([ nan,  nan,  nan, ...,  nan,  nan,  nan]),\n",
       " 'RHOB': Curve([ nan,  nan,  nan, ...,  nan,  nan,  nan]),\n",
       " 'SN': Curve([ nan,  nan,  nan, ...,  nan,  nan,  nan]),\n",
       " 'SP': Curve([ nan,  nan,  nan, ...,  nan,  nan,  nan])}"
      ]
     },
     "execution_count": 8,
     "metadata": {},
     "output_type": "execute_result"
    }
   ],
   "source": [
    "w.data"
   ]
  },
  {
   "cell_type": "code",
   "execution_count": 9,
   "metadata": {},
   "outputs": [],
   "source": [
    "dt = w.data['DT']"
   ]
  },
  {
   "cell_type": "code",
   "execution_count": 10,
   "metadata": {},
   "outputs": [
    {
     "data": {
      "image/png": "[encoded data removed]",
      "text/plain": [
       "<matplotlib.figure.Figure at 0x10ea21390>"
      ]
     },
     "metadata": {},
     "output_type": "display_data"
    }
   ],
   "source": [
    "dt.plot()"
   ]
  },
  {
   "cell_type": "code",
   "execution_count": 11,
   "metadata": {},
   "outputs": [
    {
     "data": {
      "text/plain": [
       "'US/F'"
      ]
     },
     "execution_count": 11,
     "metadata": {},
     "output_type": "execute_result"
    }
   ],
   "source": [
    "dt.units"
   ]
  },
  {
   "cell_type": "code",
   "execution_count": 12,
   "metadata": {},
   "outputs": [
    {
     "data": {
      "text/html": [
       "<table><tr><th style=\"text-align:center;\" colspan=\"2\">DT [US/F]</th></tr><tr><td style=\"text-align:center;\" colspan=\"2\">38.0000 : 3156.8660 : 0.1524</td></tr><tr><td><strong>description</strong></td><td>3     BHC</td></tr><tr><td><strong>run</strong></td><td>None</td></tr><tr><td><strong>service_company</strong></td><td></td></tr><tr><td><strong>code</strong></td><td></td></tr><tr><td><strong>null</strong></td><td>-999.25</td></tr><tr><td><strong>date</strong></td><td></td></tr><tr><th style=\"border-top: 2px solid #000; text-align:center;\" colspan=\"2\"><strong>Stats</strong></th></tr><tr><td><strong>samples (NaNs)</strong></td><td>20465 (2933)</td></tr><tr><td><strong><sub>min</sub> mean <sup>max</sup></strong></td><td><sub>54.36</sub> 119.321 <sup>203.60</sup></td></tr><tr><th style=\"border-top: 2px solid #000;\">Depth</th><th style=\"border-top: 2px solid #000;\">Value</th></tr><tr><td>38.0000</td><td>nan</td></tr><tr><td>38.1524</td><td>nan</td></tr><tr><td>38.3048</td><td>nan</td></tr><tr><td>⋮</td><td>⋮</td></tr><tr><td>3156.4088</td><td>nan</td></tr><tr><td>3156.5612</td><td>nan</td></tr><tr><td>3156.7136</td><td>nan</td></tr></table>"
      ],
      "text/plain": [
       "Curve([ nan,  nan,  nan, ...,  nan,  nan,  nan])"
      ]
     },
     "execution_count": 12,
     "metadata": {},
     "output_type": "execute_result"
    }
   ],
   "source": [
    "dt"
   ]
  },
  {
   "cell_type": "code",
   "execution_count": 13,
   "metadata": {
    "collapsed": true
   },
   "outputs": [],
   "source": [
    "# Correct for feet and microseconds.\n",
    "vp = 0.3048 * 1e6 / dt"
   ]
  },
  {
   "cell_type": "code",
   "execution_count": 14,
   "metadata": {},
   "outputs": [
    {
     "data": {
      "text/plain": [
       "38.0"
      ]
     },
     "execution_count": 14,
     "metadata": {},
     "output_type": "execute_result"
    }
   ],
   "source": [
    "vp.start"
   ]
  },
  {
   "cell_type": "code",
   "execution_count": 15,
   "metadata": {},
   "outputs": [
    {
     "data": {
      "text/html": [
       "<table><tr><th style=\"text-align:center;\" colspan=\"2\">DT [US/F]</th></tr><tr><td style=\"text-align:center;\" colspan=\"2\">38.0000 : 3156.8660 : 0.1524</td></tr><tr><td><strong>run</strong></td><td>None</td></tr><tr><td><strong>service_company</strong></td><td></td></tr><tr><td><strong>code</strong></td><td></td></tr><tr><td><strong>null</strong></td><td>-999.25</td></tr><tr><td><strong>date</strong></td><td></td></tr><tr><th style=\"border-top: 2px solid #000; text-align:center;\" colspan=\"2\"><strong>Stats</strong></th></tr><tr><td><strong>samples (NaNs)</strong></td><td>20465 (0)</td></tr><tr><td><strong><sub>min</sub> mean <sup>max</sup></strong></td><td><sub>1497.04</sub> 2702.927 <sup>5607.01</sup></td></tr><tr><th style=\"border-top: 2px solid #000;\">Depth</th><th style=\"border-top: 2px solid #000;\">Value</th></tr><tr><td>38.0000</td><td>4107.1049</td></tr><tr><td>38.1524</td><td>4107.1049</td></tr><tr><td>38.3048</td><td>4107.1049</td></tr><tr><td>⋮</td><td>⋮</td></tr><tr><td>3156.4088</td><td>2178.1177</td></tr><tr><td>3156.5612</td><td>2178.1177</td></tr><tr><td>3156.7136</td><td>2178.1177</td></tr></table>"
      ],
      "text/plain": [
       "Curve([ 4107.10488721,  4107.10488721,  4107.10488721, ...,  2178.11774128,\n",
       "        2178.11774128,  2178.11774128])"
      ]
     },
     "execution_count": 15,
     "metadata": {},
     "output_type": "execute_result"
    }
   ],
   "source": [
    "vp.interpolate()"
   ]
  },
  {
   "cell_type": "code",
   "execution_count": 16,
   "metadata": {
    "collapsed": true
   },
   "outputs": [],
   "source": [
    "vp = vp.to_basis(start=0).extrapolate()"
   ]
  },
  {
   "cell_type": "code",
   "execution_count": 17,
   "metadata": {},
   "outputs": [],
   "source": [
    "vp = vp.despike().smooth(20)"
   ]
  },
  {
   "cell_type": "code",
   "execution_count": 18,
   "metadata": {},
   "outputs": [
    {
     "data": {
      "image/png": "[encoded data removed]",
      "text/plain": [
       "<matplotlib.figure.Figure at 0x115f44390>"
      ]
     },
     "metadata": {},
     "output_type": "display_data"
    }
   ],
   "source": [
    "vp.plot()"
   ]
  },
  {
   "cell_type": "code",
   "execution_count": 19,
   "metadata": {},
   "outputs": [
    {
     "data": {
      "text/html": [
       "<table><tr><th style=\"text-align:center;\" colspan=\"2\">DT [US/F]</th></tr><tr><td style=\"text-align:center;\" colspan=\"2\">0.0000 : 3156.9660 : 0.1524</td></tr><tr><td><strong>run</strong></td><td>None</td></tr><tr><td><strong>service_company</strong></td><td></td></tr><tr><td><strong>code</strong></td><td></td></tr><tr><td><strong>null</strong></td><td>-999.25</td></tr><tr><td><strong>date</strong></td><td></td></tr><tr><th style=\"border-top: 2px solid #000; text-align:center;\" colspan=\"2\"><strong>Stats</strong></th></tr><tr><td><strong>samples (NaNs)</strong></td><td>20715 (0)</td></tr><tr><td><strong><sub>min</sub> mean <sup>max</sup></strong></td><td><sub>1551.33</sub> 2719.812 <sup>5007.77</sup></td></tr><tr><th style=\"border-top: 2px solid #000;\">Depth</th><th style=\"border-top: 2px solid #000;\">Value</th></tr><tr><td>0.0000</td><td>4107.1049</td></tr><tr><td>0.1524</td><td>4107.1049</td></tr><tr><td>0.3048</td><td>4107.1049</td></tr><tr><td>⋮</td><td>⋮</td></tr><tr><td>3156.5088</td><td>2178.1177</td></tr><tr><td>3156.6612</td><td>2178.1177</td></tr><tr><td>3156.8136</td><td>2178.1177</td></tr></table>"
      ],
      "text/plain": [
       "Curve([ 4107.10488721,  4107.10488721,  4107.10488721, ...,  2178.11774128,\n",
       "        2178.11774128,  2178.11774128])"
      ]
     },
     "execution_count": 19,
     "metadata": {},
     "output_type": "execute_result"
    }
   ],
   "source": [
    "vp"
   ]
  },
  {
   "cell_type": "markdown",
   "metadata": {},
   "source": [
    "Get Vp log in time:"
   ]
  },
  {
   "cell_type": "code",
   "execution_count": 22,
   "metadata": {
    "collapsed": true
   },
   "outputs": [],
   "source": [
    "import bruges"
   ]
  },
  {
   "cell_type": "code",
   "execution_count": 23,
   "metadata": {},
   "outputs": [
    {
     "data": {
      "text/plain": [
       "(581,)"
      ]
     },
     "execution_count": 23,
     "metadata": {},
     "output_type": "execute_result"
    }
   ],
   "source": [
    "dt = 0.004   # seconds seismic sample interval\n",
    "vp_t = bruges.transform.depth_to_time(vp, vmodel=vp, dt=dt, dz=vp.step, mode='linear')\n",
    "vp_t.shape"
   ]
  },
  {
   "cell_type": "markdown",
   "metadata": {},
   "source": [
    "It's too short (must match seismic trace), so pad it:"
   ]
  },
  {
   "cell_type": "code",
   "execution_count": 24,
   "metadata": {},
   "outputs": [],
   "source": [
    "vp_t = np.pad(vp_t, pad_width=[0, 1000-vp_t.size], mode='edge')"
   ]
  },
  {
   "cell_type": "markdown",
   "metadata": {},
   "source": [
    "Make a random trace and use time-based model to convert it to depth:"
   ]
  },
  {
   "cell_type": "code",
   "execution_count": 25,
   "metadata": {},
   "outputs": [],
   "source": [
    "tr = np.random.randn(1000)\n",
    "dz = 0.5   # Depth sample interval\n",
    "tr_z = bruges.transform.time_to_depth(tr, vmodel=vp_t, dt=dt, dz=dz, mode=\"linear\")"
   ]
  },
  {
   "cell_type": "markdown",
   "metadata": {},
   "source": [
    "Make a basis for the seismic in depth:"
   ]
  },
  {
   "cell_type": "code",
   "execution_count": 26,
   "metadata": {},
   "outputs": [],
   "source": [
    "basis = np.linspace(0, tr_z.size*dz, tr_z.size+1)"
   ]
  },
  {
   "cell_type": "code",
   "execution_count": 27,
   "metadata": {},
   "outputs": [
    {
     "data": {
      "text/plain": [
       "array([  0.00000000e+00,   5.00000000e-01,   1.00000000e+00, ...,\n",
       "         4.57450000e+03,   4.57500000e+03,   4.57550000e+03])"
      ]
     },
     "execution_count": 27,
     "metadata": {},
     "output_type": "execute_result"
    }
   ],
   "source": [
    "basis"
   ]
  },
  {
   "cell_type": "markdown",
   "metadata": {},
   "source": [
    "This basis gives the depths in 0.5 m intervals. To get the seismic sample at a particluar depth, get it from tr_z, which is the seismic amplitude in depth (i.e. the same basis)."
   ]
  },
  {
   "cell_type": "code",
   "execution_count": null,
   "metadata": {
    "collapsed": true
   },
   "outputs": [],
   "source": []
  }
 ],
 "metadata": {
  "anaconda-cloud": {},
  "kernelspec": {
   "display_name": "Python [conda env:bruges]",
   "language": "python",
   "name": "conda-env-bruges-py"
  },
  "language_info": {
   "codemirror_mode": {
    "name": "ipython",
    "version": 3
   },
   "file_extension": ".py",
   "mimetype": "text/x-python",
   "name": "python",
   "nbconvert_exporter": "python",
   "pygments_lexer": "ipython3",
   "version": "3.6.4"
  }
 },
 "nbformat": 4,
 "nbformat_minor": 1
}
