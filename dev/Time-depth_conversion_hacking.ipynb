{
 "cells": [
  {
   "cell_type": "markdown",
   "metadata": {},
   "source": [
    "# Time-depth conversion\n",
    "\n",
    "Can't decide whether to have a `VelocityModel` class &mdash; probably a subclass of `np.ndarray` I guess &mdash; or whether to just assume something like that exists (i.e. that the velocity model is perfect) and focus on the conversion function. Probably that's better... then the mechanics of making sure the velocity model is legit can go into a class later."
   ]
  },
  {
   "cell_type": "code",
   "execution_count": 1,
   "metadata": {},
   "outputs": [],
   "source": [
    "import bruges\n",
    "\n",
    "import numpy as np\n",
    "%matplotlib inline\n",
    "import matplotlib.pyplot as plt"
   ]
  },
  {
   "cell_type": "markdown",
   "metadata": {},
   "source": [
    "## Data model"
   ]
  },
  {
   "cell_type": "code",
   "execution_count": 2,
   "metadata": {},
   "outputs": [],
   "source": [
    "class VelocityModel(object):\n",
    "    # Subclass ndarray\n",
    "    # Check that it goes to t = 0\n",
    "    # Let people choose whether it's defined in time or depth\n",
    "    # Let people choose whether it's defined with Vint, Vrms, Vavg, or time-depth pairs\n",
    "    # Instantiate from SEGY or from ASCII\n",
    "    # 1D, 2D or 3D\n",
    "    pass"
   ]
  },
  {
   "cell_type": "markdown",
   "metadata": {},
   "source": [
    "## Conversion function\n",
    "\n",
    "Requirements:\n",
    "\n",
    "  - Should 'just work' with any number of dimensions.\n",
    "  - Should be able to convert a single depth or time.\n",
    "  - Should be able to get time-depth table.\n",
    "  - Should work on continuous or point data.\n",
    "  - Data and model should be able to have different bases.\n",
    "  - Should be independent of units.\n",
    "\n",
    "We'll start with 1D..."
   ]
  },
  {
   "cell_type": "code",
   "execution_count": 2,
   "metadata": {},
   "outputs": [],
   "source": [
    "v1d = np.array([1600, 2000, 2500, 2400, 2600, 2600])"
   ]
  },
  {
   "cell_type": "code",
   "execution_count": 59,
   "metadata": {
    "collapsed": true
   },
   "outputs": [],
   "source": [
    "basis = 0.5"
   ]
  },
  {
   "cell_type": "code",
   "execution_count": 3,
   "metadata": {},
   "outputs": [],
   "source": [
    "basis = np.array([0.   , 0.002, 0.004, 0.006, 0.008, 0.010 ])"
   ]
  },
  {
   "cell_type": "code",
   "execution_count": 30,
   "metadata": {
    "collapsed": true
   },
   "outputs": [],
   "source": [
    "basis = np.array([0.   , 0.001, 0.002])"
   ]
  },
  {
   "cell_type": "code",
   "execution_count": 4,
   "metadata": {},
   "outputs": [],
   "source": [
    "def _get_basis(a, basis):\n",
    "    a = np.asanyarray(a, dtype=np.float)\n",
    "    t_len = a.shape[-1]\n",
    "    if np.size(basis) == t_len:\n",
    "        t = basis\n",
    "        # Check that intervals are all the same.\n",
    "    elif np.size(basis) == 1:\n",
    "        t_end = basis * (t_len - 1)\n",
    "        t = np.linspace(0, t_end, t_len)\n",
    "    else:\n",
    "        raise ValueError(\"The basis must give the time or depth for all samples, or be a scalar\")\n",
    "    dt = t[1] - t[0]\n",
    "    return t, dt"
   ]
  },
  {
   "cell_type": "code",
   "execution_count": 6,
   "metadata": {},
   "outputs": [
    {
     "data": {
      "text/plain": [
       "(array([0., 1., 2., 3., 4., 5.]), 1.0)"
      ]
     },
     "execution_count": 6,
     "metadata": {},
     "output_type": "execute_result"
    }
   ],
   "source": [
    "_get_basis(v1d, 1)"
   ]
  },
  {
   "cell_type": "code",
   "execution_count": 7,
   "metadata": {},
   "outputs": [],
   "source": [
    "domain = 'time'  # Domain of the model."
   ]
  },
  {
   "cell_type": "code",
   "execution_count": 8,
   "metadata": {},
   "outputs": [
    {
     "data": {
      "text/plain": [
       "array([1600, 1600, 1600, 2000, 2000, 2000, 2500, 2500, 2500, 2400, 2400,\n",
       "       2400, 2600, 2600, 2600, 2600, 2600, 2600])"
      ]
     },
     "execution_count": 8,
     "metadata": {},
     "output_type": "execute_result"
    }
   ],
   "source": [
    "np.repeat(v1d, 3)"
   ]
  },
  {
   "cell_type": "code",
   "execution_count": 9,
   "metadata": {},
   "outputs": [],
   "source": [
    "def subsample(arr, d0, dnew):\n",
    "    r = int(d0 / dnew)\n",
    "    return np.repeat(arr, r)"
   ]
  },
  {
   "cell_type": "code",
   "execution_count": 10,
   "metadata": {},
   "outputs": [
    {
     "data": {
      "text/plain": [
       "array([1600, 1600, 1600, 1600, 1600, 1600, 2000, 2000, 2000, 2000, 2000,\n",
       "       2000, 2500, 2500, 2500, 2500, 2500, 2500, 2400, 2400, 2400, 2400,\n",
       "       2400, 2400, 2600, 2600, 2600, 2600, 2600, 2600, 2600, 2600, 2600,\n",
       "       2600, 2600, 2600])"
      ]
     },
     "execution_count": 10,
     "metadata": {},
     "output_type": "execute_result"
    }
   ],
   "source": [
    "subsample(v1d, 1, 0.15)"
   ]
  },
  {
   "cell_type": "code",
   "execution_count": 97,
   "metadata": {
    "collapsed": true
   },
   "outputs": [],
   "source": [
    "def time_to_depth(data, v, basis, domain, basis_out):\n",
    "    pass"
   ]
  },
  {
   "cell_type": "code",
   "execution_count": 106,
   "metadata": {
    "collapsed": true
   },
   "outputs": [],
   "source": [
    "def convert(x, x_basis, v, v_basis, y_basis):\n",
    "    time, dt = _get_basis(v, v_basis)\n",
    "    time = np.concatenate([time, [time[-1] + dt]])\n",
    "    depth = dt * np.concatenate([[0], np.cumsum(v)])\n",
    "    v_avg = depth / time\n",
    "    v_avg[0] = v_avg[1]\n",
    "    print(\"V_avg\", v_avg)\n",
    "    return"
   ]
  },
  {
   "cell_type": "code",
   "execution_count": null,
   "metadata": {
    "collapsed": true
   },
   "outputs": [],
   "source": [
    "time, dt = _get_basis(v, v_basis)\n",
    "time = np.concatenate([time, [time[-1] + dt]])\n",
    "depth = dt * np.concatenate([[0], np.cumsum(v)])\n",
    "v_avg = depth / time\n",
    "v_avg[0] = v_avg[1]\n",
    "print(\"V_avg\", v_avg)\n"
   ]
  },
  {
   "cell_type": "code",
   "execution_count": 105,
   "metadata": {},
   "outputs": [
    {
     "name": "stdout",
     "output_type": "stream",
     "text": [
      "V_avg [1600.         1600.         1800.         2033.33333333 2125.\n",
      " 2220.         2283.33333333]\n"
     ]
    },
    {
     "name": "stderr",
     "output_type": "stream",
     "text": [
      "/home/matt/anaconda3/envs/bruges/lib/python3.6/site-packages/ipykernel_launcher.py:5: RuntimeWarning: invalid value encountered in true_divide\n",
      "  \"\"\"\n"
     ]
    }
   ],
   "source": [
    "convert(None, None, v1d, 1, None)"
   ]
  },
  {
   "cell_type": "code",
   "execution_count": 81,
   "metadata": {},
   "outputs": [
    {
     "data": {
      "text/plain": [
       "array([1600, 2000, 2500, 2400, 2600, 2600])"
      ]
     },
     "execution_count": 81,
     "metadata": {},
     "output_type": "execute_result"
    }
   ],
   "source": [
    "v1d"
   ]
  },
  {
   "cell_type": "code",
   "execution_count": 66,
   "metadata": {},
   "outputs": [
    {
     "data": {
      "text/plain": [
       "array([1600, 2000, 2500, 2400, 2600, 2600])"
      ]
     },
     "execution_count": 66,
     "metadata": {},
     "output_type": "execute_result"
    }
   ],
   "source": [
    "v1d"
   ]
  },
  {
   "cell_type": "code",
   "execution_count": 54,
   "metadata": {},
   "outputs": [
    {
     "data": {
      "text/plain": [
       "array([ 1600,  3600,  6100,  8500, 11100, 13700])"
      ]
     },
     "execution_count": 54,
     "metadata": {},
     "output_type": "execute_result"
    }
   ],
   "source": [
    "np.cumsum(v1d)"
   ]
  },
  {
   "cell_type": "code",
   "execution_count": 51,
   "metadata": {},
   "outputs": [
    {
     "data": {
      "text/plain": [
       "array([0., 1., 2., 3., 4., 5.])"
      ]
     },
     "execution_count": 51,
     "metadata": {},
     "output_type": "execute_result"
    }
   ],
   "source": [
    "t"
   ]
  },
  {
   "cell_type": "code",
   "execution_count": 71,
   "metadata": {},
   "outputs": [
    {
     "data": {
      "text/plain": [
       "array([ 1,  3,  6, 10])"
      ]
     },
     "execution_count": 71,
     "metadata": {},
     "output_type": "execute_result"
    }
   ],
   "source": [
    "np.cumsum([1,2,3,4])"
   ]
  },
  {
   "cell_type": "code",
   "execution_count": null,
   "metadata": {
    "collapsed": true
   },
   "outputs": [],
   "source": []
  }
 ],
 "metadata": {
  "kernelspec": {
   "display_name": "py36",
   "language": "python",
   "name": "py36"
  },
  "language_info": {
   "codemirror_mode": {
    "name": "ipython",
    "version": 3
   },
   "file_extension": ".py",
   "mimetype": "text/x-python",
   "name": "python",
   "nbconvert_exporter": "python",
   "pygments_lexer": "ipython3",
   "version": "3.6.4"
  }
 },
 "nbformat": 4,
 "nbformat_minor": 2
}
