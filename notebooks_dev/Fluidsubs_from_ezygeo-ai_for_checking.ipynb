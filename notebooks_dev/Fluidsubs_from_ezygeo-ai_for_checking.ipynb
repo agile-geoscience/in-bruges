{
 "cells": [
  {
   "cell_type": "markdown",
   "metadata": {},
   "source": [
    "# Gassmann Fluid Substitution\n",
    "\n",
    "This notebook is based [on the original by Hadyan Pratama](https://github.com/ezygeo-ai/Fluid-Substitution), which is licenced under the MIT licence.\n",
    "\n",
    "Original: Copyright (C) 2020 ezygeo.com, Hadyan Pratama (hadyan_pratama@rocketmail.com)\n",
    "Modified: Matt Hall, 2021. Same licence."
   ]
  },
  {
   "cell_type": "markdown",
   "metadata": {},
   "source": [
    "I am going to check the result using `bruges`."
   ]
  },
  {
   "cell_type": "code",
   "execution_count": 1,
   "metadata": {},
   "outputs": [],
   "source": [
    "import bruges as bg"
   ]
  },
  {
   "cell_type": "markdown",
   "metadata": {},
   "source": [
    "This Notebook requires bruges 0.4.0 or greater."
   ]
  },
  {
   "cell_type": "code",
   "execution_count": 2,
   "metadata": {},
   "outputs": [
    {
     "data": {
      "text/plain": [
       "'0.4.1'"
      ]
     },
     "execution_count": 2,
     "metadata": {},
     "output_type": "execute_result"
    }
   ],
   "source": [
    "bg.__version__"
   ]
  },
  {
   "cell_type": "code",
   "execution_count": 3,
   "metadata": {},
   "outputs": [],
   "source": [
    "import numpy as np"
   ]
  },
  {
   "cell_type": "markdown",
   "metadata": {},
   "source": [
    "## Data\n",
    "\n",
    "The original notebook had cgs units. I'm going to do everything in SI because science."
   ]
  },
  {
   "cell_type": "code",
   "execution_count": 4,
   "metadata": {},
   "outputs": [],
   "source": [
    "# Converting to SI units.\n",
    "Vp = 3.349 * 1000\n",
    "Vs = 1.836 * 1000\n",
    "\n",
    "So = 0.7  # Initial condition.\n",
    "Sw = 1    # Subbed case.\n",
    "\n",
    "Por = 0.3\n",
    "\n",
    "Fq = 0.7\n",
    "Fc = 0.3\n",
    "Kq = 36 * 1e9\n",
    "Kc = 75 * 1e9\n",
    "Ko = 1.6 * 1e9\n",
    "Kw = 2.83 * 1e9\n",
    "\n",
    "Rho = 2.13 * 1000\n",
    "Rhoo = 0.8 * 1000\n",
    "Rhow = 1 * 1000"
   ]
  },
  {
   "cell_type": "markdown",
   "metadata": {},
   "source": [
    "## Define Formulae\n",
    "\n",
    "The ezygeo functions all used rounding on the outputs... I have removed this 'feature'."
   ]
  },
  {
   "cell_type": "markdown",
   "metadata": {},
   "source": [
    "#### 1. K Saturated Initial"
   ]
  },
  {
   "cell_type": "markdown",
   "metadata": {},
   "source": [
    "_Biot (1956)_"
   ]
  },
  {
   "cell_type": "markdown",
   "metadata": {},
   "source": [
    "<img src=\"https://github.com/ezygeo-ai/Fluid-Substitution/blob/master/img/biot.png?raw=true\" height=50% width=50%>"
   ]
  },
  {
   "cell_type": "code",
   "execution_count": 5,
   "metadata": {},
   "outputs": [],
   "source": [
    "def msat(vs, rho):\n",
    "    '''\n",
    "    Miu saturated (C) hpratama 2020\n",
    "    \n",
    "    Input:\n",
    "    vs = Shear Velocity (Km/s)\n",
    "    rho = Density (g/cc)\n",
    "  \n",
    "    '''\n",
    "    return rho*(vs**2)"
   ]
  },
  {
   "cell_type": "markdown",
   "metadata": {},
   "source": [
    "I'm going to check all these formula against the equivalent in `bruges`, if it's in there."
   ]
  },
  {
   "cell_type": "code",
   "execution_count": 6,
   "metadata": {},
   "outputs": [],
   "source": [
    "assert msat(Vs, Rho) == bg.rockphysics.moduli.mu(vs=Vs, rho=Rho)"
   ]
  },
  {
   "cell_type": "code",
   "execution_count": 7,
   "metadata": {},
   "outputs": [],
   "source": [
    "def ksat1(vp, vs, rho):\n",
    "    '''\n",
    "    K saturated (C) hpratama 2020\n",
    "    \n",
    "    Input:\n",
    "    vp = P wave velocity (Km/s)\n",
    "    vs = Shear wave Velocity (Km/s)\n",
    "    rho = Density (g/cc)\n",
    "  \n",
    "    '''\n",
    "    return ((vp**2)*rho) - 4/3*(msat(vs, rho))"
   ]
  },
  {
   "cell_type": "code",
   "execution_count": 8,
   "metadata": {},
   "outputs": [],
   "source": [
    "assert ksat1(Vp, Vs, Rho) == bg.rockphysics.moduli.bulk(Vp, Vs, Rho)"
   ]
  },
  {
   "cell_type": "markdown",
   "metadata": {},
   "source": [
    "#### 2. K Fluid "
   ]
  },
  {
   "cell_type": "markdown",
   "metadata": {},
   "source": [
    "_Batzle and Wang, 1992_"
   ]
  },
  {
   "cell_type": "markdown",
   "metadata": {},
   "source": [
    "<img src=\"https://github.com/ezygeo-ai/Fluid-Substitution/blob/master/img/batzleandwang.png?raw=true\" height=40% width=40%>"
   ]
  },
  {
   "cell_type": "code",
   "execution_count": 9,
   "metadata": {},
   "outputs": [],
   "source": [
    "def kfl(sw, khc, kw):\n",
    "    '''\n",
    "    K Fluid (C) hpratama 2020\n",
    "    \n",
    "    Input:\n",
    "    sw = Water Saturation\n",
    "    khc = K Hydrocarbon\n",
    "    kw = K Water\n",
    "    \n",
    "    '''\n",
    "    return ((sw/kw) + ((1-sw)/khc))**-1"
   ]
  },
  {
   "cell_type": "code",
   "execution_count": 10,
   "metadata": {},
   "outputs": [],
   "source": [
    "ezygeo = kfl(1 - So, Ko, Kw)\n",
    "bruges = bg.rockphysics.fluids.wood(Kw, Ko, 1 - So)\n",
    "\n",
    "assert ezygeo == bruges"
   ]
  },
  {
   "cell_type": "markdown",
   "metadata": {},
   "source": [
    "#### 3. K Mineral"
   ]
  },
  {
   "cell_type": "markdown",
   "metadata": {},
   "source": [
    "_Voight-Reuss-Hill Average_"
   ]
  },
  {
   "cell_type": "markdown",
   "metadata": {},
   "source": [
    "<img src=\"https://github.com/ezygeo-ai/Fluid-Substitution/blob/master/img/voightreusshill.png?raw=true\" height=50% width=50%>"
   ]
  },
  {
   "cell_type": "code",
   "execution_count": 11,
   "metadata": {},
   "outputs": [],
   "source": [
    "def km(por, fq, fc, kq, kc):\n",
    "    '''\n",
    "    K mineral (K0) (C) hpratama 2020\n",
    "    \n",
    "    Input:\n",
    "    por = Porosity\n",
    "    fq = Quartz Fraction\n",
    "    fc = Calcite Fraction\n",
    "    kq = Quarzt Bulk\n",
    "    kc = Calcite Bulk\n",
    "    '''\n",
    "    kv = ((fq)*kq) + ((fc)*kc) \n",
    "    kr = (((fq)/kq) + ((fc)/kc))**(-1)\n",
    "    return (kv + kr)/2"
   ]
  },
  {
   "cell_type": "code",
   "execution_count": 12,
   "metadata": {},
   "outputs": [],
   "source": [
    "ezygeo = km(Por, Fq, Fc, Kq, Kc)\n",
    "bruges = bg.rockphysics.vrh(Kc, Kq, Fc)\n",
    "\n",
    "assert ezygeo == bruges"
   ]
  },
  {
   "cell_type": "markdown",
   "metadata": {},
   "source": [
    "#### 4. K Saturated Final "
   ]
  },
  {
   "cell_type": "markdown",
   "metadata": {},
   "source": [
    "_Mavko et al._"
   ]
  },
  {
   "cell_type": "markdown",
   "metadata": {},
   "source": [
    "<img src=\"https://github.com/ezygeo-ai/Fluid-Substitution/blob/master/img/mavko.png?raw=true\" height=50% width=50%>"
   ]
  },
  {
   "cell_type": "code",
   "execution_count": 13,
   "metadata": {},
   "outputs": [],
   "source": [
    "def ksat2(ksat1, k0, kfl1, kfl2, por):\n",
    "    '''\n",
    "    K Saturation after fluid substitution (C) hpratama 2020\n",
    "    \n",
    "    Input:\n",
    "    ksat1 = K Saturation before Fluid Substitution\n",
    "    k0 = K Mineral\n",
    "    kfl1 = K Fluid before Substitution\n",
    "    kfl2 = K Fluid after Substitution\n",
    "    por = Porosity\n",
    "    \n",
    "    '''\n",
    "    a = (ksat1/(k0 - ksat1)) - (kfl1/(por*(k0 - kfl1))) + (kfl2/(por*(k0 - kfl2)))\n",
    "    return (a*(k0))/(1+a)"
   ]
  },
  {
   "cell_type": "code",
   "execution_count": 14,
   "metadata": {},
   "outputs": [],
   "source": [
    "# First Ezygeo's solution.\n",
    "Ksat1 = ksat1(Vp, Vs, Rho)\n",
    "Kfl1 = kfl((1-So), Ko, Kw)\n",
    "Kfl2 = kfl(Sw, Ko, Kw)\n",
    "K0 = km(Por, Fq, Fc, Kq, Kc)\n",
    "Ksat2_ezygeo = ksat2(Ksat1, K0, Kfl1, Kfl2, Por)\n",
    "\n",
    "# And using bruges.\n",
    "Ksat1 = bg.rockphysics.moduli.bulk(Vp, Vs, Rho)\n",
    "Kfl1 = bg.rockphysics.fluids.wood(Kw, Ko, 1 - So)\n",
    "Kfl2 = bg.rockphysics.fluids.wood(Kw, Ko, Sw)\n",
    "K0 = bg.rockphysics.vrh(Kc, Kq, Fc)\n",
    "Ksat2_bruges = bg.rockphysics.fluidsub.avseth_gassmann(Ksat1, Kfl1, Kfl2, K0, Por)\n",
    "\n",
    "np.testing.assert_almost_equal(Ksat2_ezygeo, Ksat2_bruges, decimal=4)"
   ]
  },
  {
   "cell_type": "markdown",
   "metadata": {},
   "source": [
    "#### 5. Vp "
   ]
  },
  {
   "cell_type": "markdown",
   "metadata": {},
   "source": [
    "<img src=\"https://github.com/ezygeo-ai/Fluid-Substitution/blob/master/img/rho_2.png?raw=true\" height=50% width=50%>"
   ]
  },
  {
   "cell_type": "markdown",
   "metadata": {},
   "source": [
    "Compute fluid density:"
   ]
  },
  {
   "cell_type": "code",
   "execution_count": 15,
   "metadata": {},
   "outputs": [],
   "source": [
    "def rhofluid(sw, so, rhoo, rhow):\n",
    "    \n",
    "    rho1 = ((1-so) * rhow) + (so * rhoo)\n",
    "    rho2 = ((sw) * rhow) + ((1 - sw) * rhoo)\n",
    "    return rho1, rho2"
   ]
  },
  {
   "cell_type": "code",
   "execution_count": 16,
   "metadata": {},
   "outputs": [],
   "source": [
    "# Lines adapted from bruges source code.\n",
    "rhofl = (1 - So) * Rhow + So * Rhoo\n",
    "rhofl2 = 1 * Rhow\n",
    "\n",
    "assert rhofluid(Sw, So, Rhoo, Rhow) == (rhofl, rhofl2)"
   ]
  },
  {
   "cell_type": "markdown",
   "metadata": {},
   "source": [
    "Compute new rock density:"
   ]
  },
  {
   "cell_type": "code",
   "execution_count": 17,
   "metadata": {},
   "outputs": [],
   "source": [
    "def rhosat(rho, por, rhow, sw, so, rhoo):\n",
    "    rho1, rho2 = rhofluid(sw, so, rhoo, rhow)\n",
    "    return rho + (por * (rho2 - rho1))"
   ]
  },
  {
   "cell_type": "code",
   "execution_count": 18,
   "metadata": {},
   "outputs": [],
   "source": [
    "# Lines adapted from bruges source code.\n",
    "rhog = (Rho - Por * rhofl) / (1 - Por)\n",
    "rho2 = Por * rhofl2 + (1 - Por) * rhog\n",
    "\n",
    "# ezygeo solution.\n",
    "Rhosat = rhosat(Rho, Por, Rhow, Sw, So, Rhoo)\n",
    "\n",
    "assert Rhosat == rho2"
   ]
  },
  {
   "cell_type": "markdown",
   "metadata": {},
   "source": [
    "Compute new Vp:"
   ]
  },
  {
   "cell_type": "code",
   "execution_count": 19,
   "metadata": {},
   "outputs": [],
   "source": [
    "def vp(ksat2, vs, rhosat):\n",
    "    return ((ksat2 + (4/3*(msat(vs, rhosat)))) / (rhosat))**0.5"
   ]
  },
  {
   "cell_type": "code",
   "execution_count": 20,
   "metadata": {},
   "outputs": [
    {
     "data": {
      "text/plain": [
       "(3439.9002222704626, 3427.2441956687944)"
      ]
     },
     "execution_count": 20,
     "metadata": {},
     "output_type": "execute_result"
    }
   ],
   "source": [
    "ezygeo = vp(Ksat2_ezygeo, Vs, Rhosat)\n",
    "#                         ^^ Error: Vs(2) != Vs(1)\n",
    "\n",
    "G = bg.rockphysics.moduli.mu(vs=Vs, rho=Rho)\n",
    "bruges = bg.rockphysics.moduli.vp(bulk=Ksat2_bruges, mu=G, rho=rho2)\n",
    "\n",
    "ezygeo, bruges"
   ]
  },
  {
   "cell_type": "markdown",
   "metadata": {},
   "source": [
    "## Calculate `ezygeo` result"
   ]
  },
  {
   "cell_type": "markdown",
   "metadata": {},
   "source": [
    "To get new value of Vp, there is some variable that need to calculate.\n",
    "\n",
    "* First we need to calculate K saturation before fluid subtitution. This K saturartion could be calculated from the old "
   ]
  },
  {
   "cell_type": "code",
   "execution_count": 21,
   "metadata": {},
   "outputs": [],
   "source": [
    "Ksat1 = ksat1(Vp, Vs, Rho)"
   ]
  },
  {
   "cell_type": "markdown",
   "metadata": {},
   "source": [
    "* Then, we estimate the K fluid before and after fluid substitution"
   ]
  },
  {
   "cell_type": "code",
   "execution_count": 22,
   "metadata": {},
   "outputs": [],
   "source": [
    "Kfl1 = kfl((1-So), Ko, Kw)\n",
    "Kfl2 = kfl(Sw, Ko, Kw)  # = Kw"
   ]
  },
  {
   "cell_type": "markdown",
   "metadata": {},
   "source": [
    "* After that, we evaluate K Mineral that can be estimate from Hill formula, this formula need Voight-Reuss Bounds calculation too. First we need to calculate K saturation before fluid subtitution."
   ]
  },
  {
   "cell_type": "code",
   "execution_count": 23,
   "metadata": {},
   "outputs": [],
   "source": [
    "K0 = km(Por, Fq, Fc, Kq, Kc)"
   ]
  },
  {
   "cell_type": "markdown",
   "metadata": {},
   "source": [
    "* Here we calculate K saturated after fluid substitution"
   ]
  },
  {
   "cell_type": "code",
   "execution_count": 24,
   "metadata": {},
   "outputs": [],
   "source": [
    "Ksat2 = ksat2(Ksat1, K0, Kfl1, Kfl2, Por)"
   ]
  },
  {
   "cell_type": "markdown",
   "metadata": {},
   "source": [
    "* To calculate the new Vp, we need to calculate density saturation. After that we estimate new Vp with new K saturated after fluid substitution"
   ]
  },
  {
   "cell_type": "code",
   "execution_count": 25,
   "metadata": {},
   "outputs": [],
   "source": [
    "Rhosat = rhosat(Rho, Por, Rhow, Sw, So, Rhoo)"
   ]
  },
  {
   "cell_type": "code",
   "execution_count": 26,
   "metadata": {},
   "outputs": [],
   "source": [
    "Vp2 = vp(Ksat2, Vs, Rhosat)"
   ]
  },
  {
   "cell_type": "code",
   "execution_count": 27,
   "metadata": {},
   "outputs": [
    {
     "name": "stdout",
     "output_type": "stream",
     "text": [
      "3439.9002222704626\n"
     ]
    }
   ],
   "source": [
    "print(Vp2)"
   ]
  },
  {
   "cell_type": "markdown",
   "metadata": {},
   "source": [
    "Done."
   ]
  },
  {
   "cell_type": "markdown",
   "metadata": {},
   "source": [
    "## Compute using Avseth's algorithm in `bruges`"
   ]
  },
  {
   "cell_type": "code",
   "execution_count": 28,
   "metadata": {},
   "outputs": [],
   "source": [
    "from bruges.rockphysics.fluidsub import smith_gassmann, avseth_gassmann, avseth_fluidsub, smith_fluidsub"
   ]
  },
  {
   "cell_type": "code",
   "execution_count": 29,
   "metadata": {},
   "outputs": [
    {
     "data": {
      "text/plain": [
       "FluidSubResult(Vp=3427.2441956687944, Vs=1818.1619642311286, rho=2172.0)"
      ]
     },
     "execution_count": 29,
     "metadata": {},
     "output_type": "execute_result"
    }
   ],
   "source": [
    "avseth_fluidsub(Vp, Vs, Rho,\n",
    "                Por,\n",
    "                rhof1=(1 - So) * Rhow + So * Rhoo,\n",
    "                rhof2=Rhow,\n",
    "                kmin=bg.rockphysics.vrh(Kc, Kq, Fc),\n",
    "                kf1=bg.rockphysics.fluids.wood(Kw, Ko, 1-So),\n",
    "                kf2=Kw,\n",
    "               )"
   ]
  },
  {
   "cell_type": "markdown",
   "metadata": {},
   "source": [
    "## Compute using Smith's algorithm in `bruges`"
   ]
  },
  {
   "cell_type": "code",
   "execution_count": 30,
   "metadata": {},
   "outputs": [
    {
     "data": {
      "text/plain": [
       "FluidSubResult(Vp=3427.244195668794, Vs=1818.1619642311286, rho=2172.0)"
      ]
     },
     "execution_count": 30,
     "metadata": {},
     "output_type": "execute_result"
    }
   ],
   "source": [
    "smith_fluidsub(Vp, Vs, Rho,\n",
    "               Por,\n",
    "               Rhow, Rhoo,\n",
    "               sw=1 - So, swnew=1,  # Fluid 1: Mix, Fluid 2: Brine\n",
    "               kw=Kw,\n",
    "               khc=Ko,\n",
    "               kclay=Kc,\n",
    "               kqtz=Kq,\n",
    "               vclay=Fc,\n",
    "               )"
   ]
  },
  {
   "cell_type": "markdown",
   "metadata": {},
   "source": [
    "This is not the same as the _ezygeo_ result, I think because of the error of passing Vs to the `vp()` function."
   ]
  }
 ],
 "metadata": {
  "kernelspec": {
   "display_name": "py39",
   "language": "python",
   "name": "py39"
  },
  "language_info": {
   "codemirror_mode": {
    "name": "ipython",
    "version": 3
   },
   "file_extension": ".py",
   "mimetype": "text/x-python",
   "name": "python",
   "nbconvert_exporter": "python",
   "pygments_lexer": "ipython3",
   "version": "3.9.0"
  }
 },
 "nbformat": 4,
 "nbformat_minor": 2
}
